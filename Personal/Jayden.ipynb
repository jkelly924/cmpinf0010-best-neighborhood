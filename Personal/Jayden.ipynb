{
 "cells": [
  {
   "cell_type": "code",
   "execution_count": 33,
   "id": "13bb8a7d-2f01-4ed9-99f9-8941b82c6a60",
   "metadata": {},
   "outputs": [
    {
     "name": "stdout",
     "output_type": "stream",
     "text": [
      "South Side Flats             1078\n",
      "East Liberty                  981\n",
      "Carrick                       971\n",
      "Central Business District     774\n",
      "Mount Washington              758\n",
      "                             ... \n",
      "Swisshelm Park                 18\n",
      "Summer Hill                    18\n",
      "Ridgemont                      16\n",
      "New Homestead                  10\n",
      "Fairywood                       3\n",
      "Length: 90, dtype: int64\n"
     ]
    }
   ],
   "source": [
    "import pandas as pd\n",
    "import matplotlib.pyplot as plt\n",
    "import matplotlib.ticker as mticker\n",
    "import numpy as np\n",
    "\n",
    "snap_data = pd.read_csv(r'..\\Datasets\\Neighborhoods_with_SNAP_Data.csv')\n",
    "\n",
    "crimes = pd.DataFrame(snap_data.loc[:, 'SNAP_All_csv_Neighborhood']).join(snap_data.loc[:, 'SNAP_All_csv__Murder__2010_':'SNAP_All_csv__Drug_Violations__'])\n",
    "\n",
    "crimes.head(10)\n",
    "\n",
    "weighted_crime_tally = pd.Series()\n",
    "\n",
    "for row in crimes.iterrows():\n",
    "    crime_tally = 0\n",
    "\n",
    "    row = row[1]\n",
    "    \n",
    "    # Murders and Rapes, 10 pts ea.\n",
    "    crime_tally += row['SNAP_All_csv__Murder__2010_'] * 10\n",
    "    crime_tally += row['SNAP_All_csv__Rape__2010_'] * 10\n",
    "\n",
    "    # Robbery and Agr Assault, 5 pts ea.\n",
    "    crime_tally += row['SNAP_All_csv__Robbery__2010_'] * 5\n",
    "    crime_tally += row['F_Agr__Assault__2010_'] * 5\n",
    "\n",
    "    # Burglary and Auto Theft, 3 pts ea.\n",
    "    crime_tally += row['SNAP_All_csv__Burglary__2010_'] * 3\n",
    "    crime_tally += row['SNAP_All_csv__Auto_Theft__2010_'] * 3\n",
    "\n",
    "    # Drug Violations, 1 pts ea.\n",
    "    crime_tally += row['SNAP_All_csv__Drug_Violations__'] * 1\n",
    "\n",
    "    weighted_crime_tally[row['SNAP_All_csv_Neighborhood']] = crime_tally\n",
    "\n",
    "weighted_crime_tally.sort_values(ascending=False, inplace=True)\n",
    "print(weighted_crime_tally)\n",
    "\n",
    "fire_incidents = pd.read_csv(r'..\\Datasets\\Fire_Incidents.csv')\n",
    "hood_count = fire_incidents"
   ]
  }
 ],
 "metadata": {
  "kernelspec": {
   "display_name": "Python 3 (ipykernel)",
   "language": "python",
   "name": "python3"
  },
  "language_info": {
   "codemirror_mode": {
    "name": "ipython",
    "version": 3
   },
   "file_extension": ".py",
   "mimetype": "text/x-python",
   "name": "python",
   "nbconvert_exporter": "python",
   "pygments_lexer": "ipython3",
   "version": "3.12.4"
  }
 },
 "nbformat": 4,
 "nbformat_minor": 5
}

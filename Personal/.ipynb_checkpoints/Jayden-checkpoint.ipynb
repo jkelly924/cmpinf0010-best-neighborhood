{
 "cells": [
  {
   "cell_type": "code",
   "execution_count": 32,
   "id": "5c129fb9-67fe-469b-afd7-c5e743b7bd37",
   "metadata": {},
   "outputs": [
    {
     "data": {
      "text/html": [
       "<div>\n",
       "<style scoped>\n",
       "    .dataframe tbody tr th:only-of-type {\n",
       "        vertical-align: middle;\n",
       "    }\n",
       "\n",
       "    .dataframe tbody tr th {\n",
       "        vertical-align: top;\n",
       "    }\n",
       "\n",
       "    .dataframe thead th {\n",
       "        text-align: right;\n",
       "    }\n",
       "</style>\n",
       "<table border=\"1\" class=\"dataframe\">\n",
       "  <thead>\n",
       "    <tr style=\"text-align: right;\">\n",
       "      <th></th>\n",
       "      <th>F__Pop__Change__60_70</th>\n",
       "      <th>F__Pop__Change__70_80</th>\n",
       "      <th>F__Pop__Change__80_90</th>\n",
       "      <th>F__Pop__Change__90_00</th>\n",
       "      <th>F__Pop__Change__00_10</th>\n",
       "    </tr>\n",
       "  </thead>\n",
       "  <tbody>\n",
       "    <tr>\n",
       "      <th>0</th>\n",
       "      <td>-8.45%</td>\n",
       "      <td>-4.29%</td>\n",
       "      <td>-7.94%</td>\n",
       "      <td>-2.31%</td>\n",
       "      <td>15.24%</td>\n",
       "    </tr>\n",
       "    <tr>\n",
       "      <th>1</th>\n",
       "      <td>16.28%</td>\n",
       "      <td>0.48%</td>\n",
       "      <td>24.44%</td>\n",
       "      <td>-9.03%</td>\n",
       "      <td>7.04%</td>\n",
       "    </tr>\n",
       "    <tr>\n",
       "      <th>2</th>\n",
       "      <td>-14.16%</td>\n",
       "      <td>-5.89%</td>\n",
       "      <td>-34.42%</td>\n",
       "      <td>17.23%</td>\n",
       "      <td>14.61%</td>\n",
       "    </tr>\n",
       "    <tr>\n",
       "      <th>3</th>\n",
       "      <td>-42.22%</td>\n",
       "      <td>-40.08%</td>\n",
       "      <td>-30.89%</td>\n",
       "      <td>10.78%</td>\n",
       "      <td>-17.18%</td>\n",
       "    </tr>\n",
       "    <tr>\n",
       "      <th>4</th>\n",
       "      <td>-45.05%</td>\n",
       "      <td>-46.74%</td>\n",
       "      <td>-46.50%</td>\n",
       "      <td>-3.27%</td>\n",
       "      <td>131.58%</td>\n",
       "    </tr>\n",
       "  </tbody>\n",
       "</table>\n",
       "</div>"
      ],
      "text/plain": [
       "  F__Pop__Change__60_70 F__Pop__Change__70_80 F__Pop__Change__80_90  \\\n",
       "0                -8.45%                -4.29%                -7.94%   \n",
       "1                16.28%                 0.48%                24.44%   \n",
       "2               -14.16%                -5.89%               -34.42%   \n",
       "3               -42.22%               -40.08%               -30.89%   \n",
       "4               -45.05%               -46.74%               -46.50%   \n",
       "\n",
       "  F__Pop__Change__90_00 F__Pop__Change__00_10  \n",
       "0                -2.31%                15.24%  \n",
       "1                -9.03%                 7.04%  \n",
       "2                17.23%                14.61%  \n",
       "3                10.78%               -17.18%  \n",
       "4                -3.27%               131.58%  "
      ]
     },
     "execution_count": 32,
     "metadata": {},
     "output_type": "execute_result"
    }
   ],
   "source": [
    "import pandas as pd\n",
    "import matplotlib.pyplot as plt\n",
    "import matplotlib.ticker as mticker\n",
    "import numpy as np\n",
    "\n",
    "snap_data = pd.read_csv(r'..\\Datasets\\Neighborhoods_with_SNAP_Data.csv')\n",
    "\n",
    "pop_change = snap_data.loc[:,'SNAP_All_csv_Neighborhood'+'F__Pop__Change__60_70':'F__Pop__Change__00_10']\n",
    "\n",
    "pop_change.head()"
   ]
  }
 ],
 "metadata": {
  "kernelspec": {
   "display_name": "Python 3 (ipykernel)",
   "language": "python",
   "name": "python3"
  },
  "language_info": {
   "codemirror_mode": {
    "name": "ipython",
    "version": 3
   },
   "file_extension": ".py",
   "mimetype": "text/x-python",
   "name": "python",
   "nbconvert_exporter": "python",
   "pygments_lexer": "ipython3",
   "version": "3.12.4"
  }
 },
 "nbformat": 4,
 "nbformat_minor": 5
}

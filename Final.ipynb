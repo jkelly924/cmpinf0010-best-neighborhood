{
 "cells": [
  {
   "cell_type": "markdown",
   "id": "618cad17-c8e6-41e1-8c14-a200613dc26b",
   "metadata": {},
   "source": [
    "# Introduction\n",
    "---"
   ]
  },
  {
   "cell_type": "markdown",
   "id": "b2331779-ece2-4bbc-a71a-b6d7e473a602",
   "metadata": {},
   "source": [
    "## Team Name: ***The Answer to Life, The Universe, and Everything***\n",
    "\n",
    "We came up with our submetrics by looking through the list of available datasets and finding compelling ones. From there, we figured out what information from each dataset could combine to come to a good result."
   ]
  },
  {
   "cell_type": "markdown",
   "id": "8ba7aac1-d245-4970-b664-68ac4b4a66a0",
   "metadata": {},
   "source": [
    "# The Metric\n",
    "---"
   ]
  },
  {
   "cell_type": "markdown",
   "id": "a5834050-426f-45d5-9986-746cfc7ccd12",
   "metadata": {},
   "source": [
    "## Quality of Life\n",
    "\n",
    "We are measuring this using three submetrics: **Fire Rates**, **Crime Rates**, and **Total Area**. The data sets used are:\n",
    "- [Fire Incidents in City of Pittsburgh](https://data.wprdc.org/dataset/fire-incidents-in-city-of-pittsburgh) (For Fire Rates)\n",
    "- [Neighborhoods with SNAP Data](https://data.wprdc.org/dataset/neighborhoods-with-snap-data) (For Crime Rates)\n",
    "- [Neighborhoods](https://data.wprdc.org/dataset/neighborhoods2) (For Total Area)"
   ]
  },
  {
   "cell_type": "markdown",
   "id": "21d9a952-f73a-41c8-a729-a32a0e87bfaa",
   "metadata": {},
   "source": [
    "# The Best Neighborhood\n",
    "---"
   ]
  },
  {
   "cell_type": "markdown",
   "id": "30c987f3-7530-4b0e-9410-beaa18f3776e",
   "metadata": {},
   "source": [
    "## Fire Rates"
   ]
  },
  {
   "cell_type": "code",
   "execution_count": null,
   "id": "e408ce5d-a2bf-4cb8-84b5-a620db7dbc49",
   "metadata": {},
   "outputs": [],
   "source": [
    "-- ???"
   ]
  },
  {
   "cell_type": "markdown",
   "id": "54d0a4fd-d94d-4559-83b0-5c4e95755965",
   "metadata": {},
   "source": [
    "## Crime Rates"
   ]
  },
  {
   "cell_type": "code",
   "execution_count": null,
   "id": "fe070ebb-901b-4ed8-942b-ca991baf4f4c",
   "metadata": {},
   "outputs": [],
   "source": [
    "-- Jayden"
   ]
  },
  {
   "cell_type": "markdown",
   "id": "1bb4870e-2cc2-43a5-93c5-6cc694afdb92",
   "metadata": {},
   "source": [
    "## Total Area"
   ]
  },
  {
   "cell_type": "code",
   "execution_count": null,
   "id": "7c06af62-f8ca-41c4-8a24-f591af20080a",
   "metadata": {},
   "outputs": [],
   "source": [
    "-- ???"
   ]
  },
  {
   "cell_type": "markdown",
   "id": "0380c47a-e346-42e9-b97c-013b14022d45",
   "metadata": {},
   "source": [
    "# Conclusion\n",
    "---"
   ]
  },
  {
   "cell_type": "code",
   "execution_count": null,
   "id": "4c8ebe55-b14f-409f-85bf-4d48e95d8dfe",
   "metadata": {},
   "outputs": [],
   "source": []
  }
 ],
 "metadata": {
  "kernelspec": {
   "display_name": "Python 3 (ipykernel)",
   "language": "python",
   "name": "python3"
  },
  "language_info": {
   "codemirror_mode": {
    "name": "ipython",
    "version": 3
   },
   "file_extension": ".py",
   "mimetype": "text/x-python",
   "name": "python",
   "nbconvert_exporter": "python",
   "pygments_lexer": "ipython3",
   "version": "3.12.4"
  }
 },
 "nbformat": 4,
 "nbformat_minor": 5
}
